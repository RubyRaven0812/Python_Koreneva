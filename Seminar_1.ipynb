{
  "nbformat": 4,
  "nbformat_minor": 0,
  "metadata": {
    "colab": {
      "name": "Seminar_1.ipynb",
      "provenance": []
    },
    "kernelspec": {
      "name": "python3",
      "display_name": "Python 3"
    }
  },
  "cells": [
    {
      "cell_type": "markdown",
      "metadata": {
        "id": "hFKcCsPLfOAV"
      },
      "source": [
        "**Задание №1.** \n",
        "*Вернуть первый элемент, третий элемент, второй с конца элемент входного массива*"
      ]
    },
    {
      "cell_type": "code",
      "metadata": {
        "id": "4y4Ryn-2eNlP",
        "outputId": "365fdd07-a10a-4136-8b55-598b7267a787",
        "colab": {
          "base_uri": "https://localhost:8080/",
          "height": 34
        }
      },
      "source": [
        "data = [1, 2, 3, 4, 5, 6, 7, 8, 9]\n",
        "print(data[0], data[2], data[-2])"
      ],
      "execution_count": 1,
      "outputs": [
        {
          "output_type": "stream",
          "text": [
            "1 3 8\n"
          ],
          "name": "stdout"
        }
      ]
    },
    {
      "cell_type": "markdown",
      "metadata": {
        "id": "AGVaN__efMso"
      },
      "source": [
        "**Задание №2.** *Дан массив чисел и число N. Возвести число в позиции N в степень N. Если это невозможно, то вернуть -1*"
      ]
    },
    {
      "cell_type": "code",
      "metadata": {
        "id": "4HbGkyiRjWRY",
        "outputId": "d9765043-6535-4da1-f580-58635a8c5b06",
        "colab": {
          "base_uri": "https://localhost:8080/",
          "height": 52
        }
      },
      "source": [
        "import random\n",
        "data = [1, 2, 3, 4, 5, 6, 7, 8, 9]\n",
        "N = random.randint(1,30)\n",
        "print(N)\n",
        "if (len(data)) >= N:\n",
        "    print(data[N-1]**N)\n",
        "else: \n",
        "    print(-1)"
      ],
      "execution_count": 8,
      "outputs": [
        {
          "output_type": "stream",
          "text": [
            "2\n",
            "4\n"
          ],
          "name": "stdout"
        }
      ]
    },
    {
      "cell_type": "markdown",
      "metadata": {
        "id": "tT4LFjKPlyJm"
      },
      "source": [
        "**Задание №3.** *Найти второй индекс входного символа во входной строке*"
      ]
    },
    {
      "cell_type": "code",
      "metadata": {
        "id": "yNiWuFafl1Iu",
        "outputId": "22ea603c-af21-4356-faa6-5a88410b0d3e",
        "colab": {
          "base_uri": "https://localhost:8080/",
          "height": 34
        }
      },
      "source": [
        "word = 'английский'\n",
        "symb = 'и'\n",
        "count = word.find(symb)\n",
        "count = word.find(symb,count+1)\n",
        "print(count)"
      ],
      "execution_count": 9,
      "outputs": [
        {
          "output_type": "stream",
          "text": [
            "8\n"
          ],
          "name": "stdout"
        }
      ]
    },
    {
      "cell_type": "markdown",
      "metadata": {
        "id": "CLG_D7I2n5B8"
      },
      "source": [
        "**Задание №4.** *Найти количество нулей в конце входного *"
      ]
    },
    {
      "cell_type": "code",
      "metadata": {
        "id": "OCYx7QAYn7dJ",
        "outputId": "7b606836-4321-4363-9add-768904342f2b",
        "colab": {
          "base_uri": "https://localhost:8080/",
          "height": 52
        }
      },
      "source": [
        "number = int(input())\n",
        "count = 0\n",
        "while number % 10 == 0:\n",
        "    number = number // 10\n",
        "    count = count + 1\n",
        "print(count)"
      ],
      "execution_count": 14,
      "outputs": [
        {
          "output_type": "stream",
          "text": [
            "2000000\n",
            "6\n"
          ],
          "name": "stdout"
        }
      ]
    },
    {
      "cell_type": "markdown",
      "metadata": {
        "id": "uJi2EQH2p_sl"
      },
      "source": [
        "**Задание №5.** *Представить входную строку в обратном порядке*"
      ]
    },
    {
      "cell_type": "code",
      "metadata": {
        "id": "LY27iHVxqGhj",
        "outputId": "1155a78c-8db9-4a60-db93-d928ea2a98ba",
        "colab": {
          "base_uri": "https://localhost:8080/",
          "height": 52
        }
      },
      "source": [
        "str = input()\n",
        "print(''.join(reversed(str)))"
      ],
      "execution_count": 15,
      "outputs": [
        {
          "output_type": "stream",
          "text": [
            "лямбда\n",
            "адбмял\n"
          ],
          "name": "stdout"
        }
      ]
    },
    {
      "cell_type": "markdown",
      "metadata": {
        "id": "pptACk6srwRM"
      },
      "source": [
        "**Задание №6.** *Проверить состоит ли входной массив исключительного из одного и того же значения*"
      ]
    },
    {
      "cell_type": "code",
      "metadata": {
        "id": "4CEjppY5r12V",
        "outputId": "f76fb05c-ad63-4690-8bc7-aef824212088",
        "colab": {
          "base_uri": "https://localhost:8080/",
          "height": 52
        }
      },
      "source": [
        "inp = input().split()\n",
        "data = list(map(int,inp))\n",
        "count = data.count(data[0])\n",
        "if count == len(data):\n",
        "     print('Массив состоит из одного и того же значения')\n",
        "else:\n",
        "     print('Массив не состоит из одного и того же значения')    "
      ],
      "execution_count": 21,
      "outputs": [
        {
          "output_type": "stream",
          "text": [
            "5 2 1 4 \n",
            "Массив несостоит из одного и того же значения\n"
          ],
          "name": "stdout"
        }
      ]
    },
    {
      "cell_type": "markdown",
      "metadata": {
        "id": "a0rG5yaQ08b5"
      },
      "source": [
        "**Задание №7.** *Проверить сложность пароля во входной строке. Пароль должен содержать, как минимум, одну букву в нижнем регистре, одну букву в верхнем регистре, одну цифру и не содержит никаких других символов. Минимальная длина пароля 16 символов*"
      ]
    },
    {
      "cell_type": "code",
      "metadata": {
        "id": "qyLSSkBU1BED",
        "outputId": "d46309c8-9d9f-4311-afcd-31a0e415ca68",
        "colab": {
          "base_uri": "https://localhost:8080/",
          "height": 52
        }
      },
      "source": [
        "password = input()\n",
        "errors = []\n",
        "if len(password) < 16:\n",
        "  errors.append('Пароль меньше 16 символов!')\n",
        "upper = 0\n",
        "lower = 0\n",
        "digit = 0\n",
        "symb = 0\n",
        "for el in password:\n",
        "  if el.isdigit():\n",
        "    digit = digit + 1\n",
        "  if el.isalpha():\n",
        "    if el.isupper():\n",
        "      upper = upper +1\n",
        "    if el.islower():\n",
        "      lower = lower + 1\n",
        "  if el.isalnum():\n",
        "    symb = symb + 1\n",
        "\n",
        "if upper == 0:\n",
        "  errors.append(\"Пароль не содержит символ верхнего регистра!\")\n",
        "if lower == 0:\n",
        "  errors.append(\"Пароль не содержит символ нижнего регистра!\")\n",
        "if digit == 0:\n",
        "  errors.append(\"Пароль не содержит цифр!\")\n",
        "if symb < len(password):\n",
        "  errors.append(\"Пароль содержит некорректные символы!\")\n",
        "\n",
        "if not errors:\n",
        "  print('Пароль корректный')\n",
        "else:\n",
        "  for el in errors:\n",
        "    print(el)"
      ],
      "execution_count": 32,
      "outputs": [
        {
          "output_type": "stream",
          "text": [
            "Julia08122015Alexander\n",
            "Пароль корректный\n"
          ],
          "name": "stdout"
        }
      ]
    },
    {
      "cell_type": "markdown",
      "metadata": {
        "id": "504EqwoD_BXR"
      },
      "source": [
        "**Задание №8.** *Во входном списке имеются вложенные списки, которые также могут иметь вложенные списки. Необходимо вытянуть список в одномерный массив (flatten)*\n",
        "\n",
        "\n"
      ]
    },
    {
      "cell_type": "code",
      "metadata": {
        "id": "EAu52RE5_IjY",
        "outputId": "f76fff1e-bca9-47b8-d8d4-d481f6100d6c",
        "colab": {
          "base_uri": "https://localhost:8080/",
          "height": 34
        }
      },
      "source": [
        "import numpy as np\n",
        "data = np.array([(3,12,13),(4,5,6),(7,8,9)])\n",
        "print(data.flatten())"
      ],
      "execution_count": 41,
      "outputs": [
        {
          "output_type": "stream",
          "text": [
            "[ 3 12 13  4  5  6  7  8  9]\n"
          ],
          "name": "stdout"
        }
      ]
    },
    {
      "cell_type": "markdown",
      "metadata": {
        "id": "PqGwsp8OC5E9"
      },
      "source": [
        "**Задание №9.** *На вход принимается словарь(dict), в котором ключами являются строки (str), а значениями числа (float). Необходимо вернуть ключ максимального значения*"
      ]
    },
    {
      "cell_type": "code",
      "metadata": {
        "id": "XOFJgiVjC_8C",
        "outputId": "57776057-f241-462b-fc1d-18e2d5ed1098",
        "colab": {
          "base_uri": "https://localhost:8080/",
          "height": 34
        }
      },
      "source": [
        "dict = {'one': 100, 'two': 105, 'three': 90, 'four': 109}\n",
        "max = 0\n",
        "key = ''\n",
        "for el in dict:\n",
        "  if dict[el] > max:\n",
        "    max = dict[el]\n",
        "    key = el\n",
        "print(key)\n"
      ],
      "execution_count": 43,
      "outputs": [
        {
          "output_type": "stream",
          "text": [
            "four\n"
          ],
          "name": "stdout"
        }
      ]
    },
    {
      "cell_type": "markdown",
      "metadata": {
        "id": "D1XSSAf0G8rc"
      },
      "source": [
        "**Задание №10.** *Дан непустой список целых чисел (X). Необходимо вернуть список, содержащий только неуникальные значения из входного списка. Порядок чисел не должен меняться*\n",
        "\n",
        "Пример: [1,2,3,1,3] => [1,3,1,3] "
      ]
    },
    {
      "cell_type": "code",
      "metadata": {
        "id": "H16a3RYBHGXZ",
        "outputId": "9c975a38-16bf-4b9c-af84-194e307ccbeb",
        "colab": {
          "base_uri": "https://localhost:8080/",
          "height": 34
        }
      },
      "source": [
        "data = [1,2,3,1,3]\n",
        "if len(data) != len(set(data)):\n",
        "  final_data = [i for i in data if data.count(i) >= 2]\n",
        "  print(final_data)\n",
        "else:\n",
        "  print('Уникальный список')"
      ],
      "execution_count": 48,
      "outputs": [
        {
          "output_type": "stream",
          "text": [
            "[1, 3, 1, 3]\n"
          ],
          "name": "stdout"
        }
      ]
    }
  ]
}